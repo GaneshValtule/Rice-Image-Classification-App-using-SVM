{
 "cells": [
  {
   "cell_type": "code",
   "execution_count": 1,
   "id": "5b9eb883",
   "metadata": {},
   "outputs": [],
   "source": [
    "from sklearn import svm\n",
    "from sklearn.model_selection import train_test_split\n",
    "from sklearn.preprocessing import StandardScaler\n",
    "from sklearn.metrics import classification_report\n",
    "import numpy as np\n",
    "import cv2 \n",
    "import os"
   ]
  },
  {
   "cell_type": "code",
   "execution_count": 2,
   "id": "7f2c88aa",
   "metadata": {},
   "outputs": [],
   "source": [
    "dataset_path = \"archive/Rice_Image_Dataset\" "
   ]
  },
  {
   "cell_type": "code",
   "execution_count": 3,
   "id": "594bb4a8",
   "metadata": {},
   "outputs": [],
   "source": [
    "image_size = (64, 64)  # Resize all images to this size\n",
    "X = []  # Feature list (flattened image data)\n",
    "y = []"
   ]
  },
  {
   "cell_type": "code",
   "execution_count": null,
   "id": "7beccf1b",
   "metadata": {},
   "outputs": [],
   "source": [
    "for label, class_folder in enumerate(os.listdir(dataset_path)):\n",
    "    class_path = os.path.join(dataset_path, class_folder)\n",
    "    \n",
    "    \n",
    "    if os.path.isdir(class_path):\n",
    "        for image_file in os.listdir(class_path):\n",
    "            img_path = os.path.join(class_path, image_file)\n",
    "            \n",
    "            if img_path.lower().endswith(('.png', '.jpg', '.jpeg', '.bmp', '.gif')):\n",
    "                \n",
    "                img = cv2.imread(img_path, cv2.IMREAD_GRAYSCALE)\n",
    "                if img is not None:\n",
    "                    img = cv2.resize(img, image_size)\n",
    "                    \n",
    "                    X.append(img.flatten())  \n",
    "                    y.append(label)"
   ]
  },
  {
   "cell_type": "code",
   "execution_count": 7,
   "id": "77167b43",
   "metadata": {},
   "outputs": [
    {
     "data": {
      "text/plain": [
       "4096"
      ]
     },
     "execution_count": 7,
     "metadata": {},
     "output_type": "execute_result"
    }
   ],
   "source": [
    "len(X[0])"
   ]
  },
  {
   "cell_type": "code",
   "execution_count": 8,
   "id": "ece6bc46",
   "metadata": {},
   "outputs": [
    {
     "name": "stdout",
     "output_type": "stream",
     "text": [
      "   0  1  2  3  4  5  6  7  8  9  ...  4087  4088  4089  4090  4091  4092  \\\n",
      "0  0  0  0  0  0  0  0  0  0  0  ...     2     2     2     2     0     0   \n",
      "1  0  0  0  0  0  0  0  0  0  0  ...     2     2     2     2     0     0   \n",
      "2  0  0  0  0  0  0  0  0  0  0  ...     2     2     2     2     0     0   \n",
      "3  0  0  0  0  0  0  0  0  0  0  ...     2     2     2     2     0     0   \n",
      "4  0  0  0  0  0  0  0  0  0  0  ...     2     2     2     2     0     0   \n",
      "\n",
      "   4093  4094  4095  label  \n",
      "0     0     0     0      0  \n",
      "1     0     0     0      0  \n",
      "2     0     0     0      0  \n",
      "3     0     0     0      0  \n",
      "4     0     0     0      0  \n",
      "\n",
      "[5 rows x 4097 columns]\n"
     ]
    }
   ],
   "source": [
    "import pandas as pd\n",
    "\n",
    "df = pd.DataFrame(X)\n",
    "\n",
    "df['label'] = y\n",
    "\n",
    "print(df.head())\n"
   ]
  },
  {
   "cell_type": "code",
   "execution_count": 9,
   "id": "e387a38d",
   "metadata": {},
   "outputs": [],
   "source": [
    "X = df.drop('label', axis=1)\n",
    "y = df['label']\n",
    "\n",
    "X_train, X_test, y_train, y_test = train_test_split(X, y, test_size=0.2, random_state=42)"
   ]
  },
  {
   "cell_type": "code",
   "execution_count": 10,
   "id": "d20f0843",
   "metadata": {},
   "outputs": [],
   "source": [
    "scaler = StandardScaler()\n",
    "X_train = scaler.fit_transform(X_train)\n",
    "X_test = scaler.transform(X_test)"
   ]
  },
  {
   "cell_type": "code",
   "execution_count": 11,
   "id": "5c860956",
   "metadata": {},
   "outputs": [
    {
     "name": "stdout",
     "output_type": "stream",
     "text": [
      "              precision    recall  f1-score   support\n",
      "\n",
      "           0       0.96      0.95      0.95      2997\n",
      "           1       0.95      0.93      0.94      2995\n",
      "           2       1.00      0.99      1.00      3083\n",
      "           3       0.92      0.94      0.93      2996\n",
      "           4       0.95      0.97      0.96      2929\n",
      "\n",
      "    accuracy                           0.96     15000\n",
      "   macro avg       0.96      0.96      0.96     15000\n",
      "weighted avg       0.96      0.96      0.96     15000\n",
      "\n"
     ]
    }
   ],
   "source": [
    "clf = svm.SVC(kernel='linear') \n",
    "clf.fit(X_train, y_train)\n",
    "\n",
    "y_pred = clf.predict(X_test)\n",
    "\n",
    "print(classification_report(y_test, y_pred))"
   ]
  },
  {
   "cell_type": "code",
   "execution_count": null,
   "id": "23cfbec1",
   "metadata": {},
   "outputs": [],
   "source": []
  }
 ],
 "metadata": {
  "kernelspec": {
   "display_name": "Python 3",
   "language": "python",
   "name": "python3"
  },
  "language_info": {
   "codemirror_mode": {
    "name": "ipython",
    "version": 3
   },
   "file_extension": ".py",
   "mimetype": "text/x-python",
   "name": "python",
   "nbconvert_exporter": "python",
   "pygments_lexer": "ipython3",
   "version": "3.10.11"
  }
 },
 "nbformat": 4,
 "nbformat_minor": 5
}
